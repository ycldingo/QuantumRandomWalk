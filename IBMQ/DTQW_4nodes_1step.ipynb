{
 "cells": [
  {
   "cell_type": "markdown",
   "metadata": {},
   "source": [
    "# prerequisite"
   ]
  },
  {
   "cell_type": "markdown",
   "metadata": {},
   "source": [
    "140.112.102.245:9529"
   ]
  },
  {
   "cell_type": "code",
   "execution_count": 1,
   "metadata": {},
   "outputs": [],
   "source": [
    "from qiskit import QuantumCircuit, QuantumRegister, ClassicalRegister\n",
    "from qiskit import Aer, BasicAer, execute\n",
    "from qiskit.providers.aer import QasmSimulator\n",
    "from qiskit.visualization import plot_histogram, plot_state_city\n",
    "%matplotlib inline\n",
    "simulator_mps = Aer.get_backend('qasm_simulator');\n",
    "backend_opts_mps = {\"method\":\"matrix_product_state\"}"
   ]
  },
  {
   "cell_type": "markdown",
   "metadata": {},
   "source": [
    "# construct quantum circuit"
   ]
  },
  {
   "cell_type": "code",
   "execution_count": 2,
   "metadata": {},
   "outputs": [],
   "source": [
    "N_node_qubit = 2;\n",
    "N_qubit = 1 + N_node_qubit;\n",
    "\n",
    "q = QuantumRegister(N_qubit, 'q');\n",
    "c = ClassicalRegister(N_qubit, 'c');\n",
    "circ = QuantumCircuit(q,c);\n"
   ]
  },
  {
   "cell_type": "markdown",
   "metadata": {},
   "source": [
    "# parameters"
   ]
  },
  {
   "cell_type": "code",
   "execution_count": 3,
   "metadata": {},
   "outputs": [],
   "source": [
    "# step number\n",
    "N_step = 3;\n",
    "\n",
    "# initial state for coin (default: |0>)\n",
    "coin_init = 0;\n",
    "if coin_init == 0:\n",
    "    circ.id (q[0]);\n",
    "elif coin_init == 1:\n",
    "    circ.x (q[0]);\n",
    "elif coin_init == 1+1j:\n",
    "    circ.h (q[0]);\n",
    "\n",
    "# start point\n",
    "k_init = [0,0];\n",
    "for n in range(2):\n",
    "    if k_init[n] == 1:\n",
    "        circ.x (q[n+1]);\n",
    "    elif k_init[n] == 0:\n",
    "        circ.id (q[n+1]);"
   ]
  },
  {
   "cell_type": "markdown",
   "metadata": {},
   "source": [
    "# operators (gates)"
   ]
  },
  {
   "cell_type": "code",
   "execution_count": 4,
   "metadata": {},
   "outputs": [],
   "source": [
    "shift_q = QuantumRegister(3); # register: 3-qubit\n",
    "shift_circ = QuantumCircuit(shift_q, name='shift_circ');\n",
    "# forward\n",
    "shift_circ.cx (shift_q[0], shift_q[1]);\n",
    "shift_circ.x (shift_q[1]);\n",
    "shift_circ.ccx (shift_q[0], shift_q[1], shift_q[2]);\n",
    "#\n",
    "shift_circ.x (shift_q[0]);\n",
    "# backward\n",
    "shift_circ.ccx (shift_q[0], shift_q[1], shift_q[2]);\n",
    "shift_circ.x (shift_q[1]);\n",
    "shift_circ.cx (shift_q[0], shift_q[1]);\n",
    "shift_gate = shift_circ.to_instruction();\n"
   ]
  },
  {
   "cell_type": "markdown",
   "metadata": {},
   "source": [
    "# quantum walks"
   ]
  },
  {
   "cell_type": "code",
   "execution_count": 5,
   "metadata": {},
   "outputs": [],
   "source": [
    "# start walk\n",
    "for i in range(N_step):\n",
    "    circ.h (q[0]); # coin operation; coin qubit=q[0]\n",
    "    circ.append (shift_gate, [q[0], q[1], q[2]]); # shift operation      \n",
    "# measurement\n",
    "circ.measure ([q[0], q[1], q[2]], [c[0], c[1], c[2]]);"
   ]
  },
  {
   "cell_type": "markdown",
   "metadata": {},
   "source": [
    "# execute"
   ]
  },
  {
   "cell_type": "code",
   "execution_count": 6,
   "metadata": {},
   "outputs": [
    {
     "name": "stdout",
     "output_type": "stream",
     "text": [
      "step:  3\n",
      "start:  [0, 0]\n",
      "initial coin: 0\n",
      "run time: 0.017605066299438477 sec\n",
      "{'010': 4098, '011': 4094}\n"
     ]
    },
    {
     "data": {
      "image/png": "[encoded data removed]",
      "text/plain": [
       "<Figure size 504x360 with 1 Axes>"
      ]
     },
     "execution_count": 6,
     "metadata": {},
     "output_type": "execute_result"
    }
   ],
   "source": [
    "# execute: matrix product state\n",
    "job_sim_mps = execute([circ], QasmSimulator(), backend_options=backend_opts_mps, shots=8192);\n",
    "result_mps = job_sim_mps.result();\n",
    "counts = result_mps.get_counts();\n",
    "\n",
    "# print results\n",
    "print(\"step: \", N_step)\n",
    "print(\"start: \", k_init)\n",
    "print(\"initial coin:\", coin_init)\n",
    "print(\"run time: {} sec\".format(result_mps.time_taken))\n",
    "print(counts)\n",
    "plot_histogram(counts, color='midnightblue', title='matrix product state')"
   ]
  },
  {
   "cell_type": "markdown",
   "metadata": {},
   "source": [
    "# full circuit"
   ]
  },
  {
   "cell_type": "code",
   "execution_count": 7,
   "metadata": {},
   "outputs": [
    {
     "name": "stdout",
     "output_type": "stream",
     "text": [
      "3 -step circuit\n",
      "initial point at: [0, 0]\n"
     ]
    },
    {
     "data": {
      "image/png": "[encoded data removed]",
      "text/plain": [
       "<Figure size 923.377x264.88 with 1 Axes>"
      ]
     },
     "execution_count": 7,
     "metadata": {},
     "output_type": "execute_result"
    }
   ],
   "source": [
    "print(N_step,\"-step circuit\")\n",
    "print(\"initial point at:\", k_init)\n",
    "circ.draw(output='mpl')"
   ]
  },
  {
   "cell_type": "markdown",
   "metadata": {},
   "source": [
    "# shift gate"
   ]
  },
  {
   "cell_type": "code",
   "execution_count": 8,
   "metadata": {},
   "outputs": [
    {
     "name": "stdout",
     "output_type": "stream",
     "text": [
      "shift gate\n"
     ]
    },
    {
     "data": {
      "image/png": "[encoded data removed]",
      "text/plain": [
       "<Figure size 575.158x204.68 with 1 Axes>"
      ]
     },
     "execution_count": 8,
     "metadata": {},
     "output_type": "execute_result"
    }
   ],
   "source": [
    "print(\"shift gate\")\n",
    "shift_circ.draw(output='mpl')"
   ]
  },
  {
   "cell_type": "code",
   "execution_count": null,
   "metadata": {},
   "outputs": [],
   "source": []
  }
 ],
 "metadata": {
  "kernelspec": {
   "display_name": "Python 3",
   "language": "python",
   "name": "python3"
  },
  "language_info": {
   "codemirror_mode": {
    "name": "ipython",
    "version": 3
   },
   "file_extension": ".py",
   "mimetype": "text/x-python",
   "name": "python",
   "nbconvert_exporter": "python",
   "pygments_lexer": "ipython3",
   "version": "3.7.7"
  }
 },
 "nbformat": 4,
 "nbformat_minor": 4
}
